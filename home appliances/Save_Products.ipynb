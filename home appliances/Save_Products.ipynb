{
 "cells": [
  {
   "cell_type": "markdown",
   "metadata": {},
   "source": [
    "# **Code for save some data to store into MySQL database from CSV dataset to help make and get better recommendation recdommendation**"
   ]
  },
  {
   "cell_type": "markdown",
   "metadata": {},
   "source": [
    "#"
   ]
  },
  {
   "cell_type": "markdown",
   "metadata": {},
   "source": [
    "# CSV data to Mysql Data"
   ]
  },
  {
   "cell_type": "code",
   "execution_count": 1,
   "metadata": {},
   "outputs": [
    {
     "name": "stdout",
     "output_type": "stream",
     "text": [
      "Data inserted successfully!\n"
     ]
    }
   ],
   "source": [
    "import mysql.connector\n",
    "import csv\n",
    "import ast\n",
    "\n",
    "# Database connection details\n",
    "config = {\n",
    "    'host': \"localhost\",\n",
    "    'user': \"root\",\n",
    "    'password': \"\",\n",
    "    'port': \"3306\",\n",
    "    'database': \"shoping\"\n",
    "}\n",
    "\n",
    "# Function to insert data into the database\n",
    "def insert_data_from_csv(csv_file_path):\n",
    "    try:\n",
    "        # Connect to the MySQL database\n",
    "        connection = mysql.connector.connect(**config)\n",
    "        cursor = connection.cursor()\n",
    "\n",
    "        # Open the CSV file\n",
    "        with open(csv_file_path, mode='r', encoding='utf-8') as file:\n",
    "            csv_reader = csv.DictReader(file)\n",
    "\n",
    "            # Iterate over each row in the CSV file\n",
    "            for row in csv_reader:\n",
    "                # Convert the binary image string to actual binary data\n",
    "                binary_image_data = ast.literal_eval(row['img'])  # Convert string to bytes\n",
    "\n",
    "                # Prepare the SQL query dynamically\n",
    "                query = \"\"\"\n",
    "                INSERT INTO products (name, category, price, description, img, shop_owner_id)\n",
    "                VALUES (%s, %s, %s, %s, %s, %s)\n",
    "                \"\"\"\n",
    "                # Execute the query with the row data\n",
    "                cursor.execute(query, (\n",
    "                    row['name'],\n",
    "                    row['category'],\n",
    "                    row['price'],\n",
    "                    row['description'],\n",
    "                    binary_image_data,  # Insert binary image data\n",
    "                    int(row['shop_owner_id'])\n",
    "                ))\n",
    "\n",
    "        # Commit the transaction\n",
    "        connection.commit()\n",
    "        print(\"Data inserted successfully!\")\n",
    "\n",
    "    except mysql.connector.Error as err:\n",
    "        print(f\"Error: {err}\")\n",
    "\n",
    "    except Exception as e:\n",
    "        print(f\"An error occurred: {e}\")\n",
    "\n",
    "    finally:\n",
    "        # Close the cursor and connection\n",
    "        if cursor:\n",
    "            cursor.close()\n",
    "        if connection:\n",
    "            connection.close()\n",
    "\n",
    "# Path to your CSV file\n",
    "csv_file_path = 'products.csv'\n",
    "\n",
    "# Insert data from the CSV file into the database\n",
    "insert_data_from_csv(csv_file_path)"
   ]
  },
  {
   "cell_type": "markdown",
   "metadata": {},
   "source": [
    "#"
   ]
  },
  {
   "cell_type": "markdown",
   "metadata": {},
   "source": [
    "# MySQL table to CSV dataset"
   ]
  },
  {
   "cell_type": "code",
   "execution_count": 4,
   "metadata": {},
   "outputs": [
    {
     "name": "stdout",
     "output_type": "stream",
     "text": [
      "✅ Data exported successfully to products.csv\n"
     ]
    },
    {
     "name": "stderr",
     "output_type": "stream",
     "text": [
      "C:\\Users\\0877\\AppData\\Local\\Temp\\ipykernel_9528\\181712199.py:23: UserWarning: pandas only supports SQLAlchemy connectable (engine/connection) or database string URI or sqlite3 DBAPI2 connection. Other DBAPI2 objects are not tested. Please consider using SQLAlchemy.\n",
      "  df = pd.read_sql(query, conn)\n"
     ]
    }
   ],
   "source": [
    "import mysql.connector\n",
    "import pandas as pd\n",
    "\n",
    "# MySQL Database Configuration\n",
    "db_config = {\n",
    "    'host' : \"localhost\",\n",
    "    'user' : \"root\",\n",
    "    'password' : \"\",\n",
    "    'port' : \"3306\",\n",
    "    'database' : \"zzz\"\n",
    "}\n",
    "\n",
    "# Establish Database Connection\n",
    "try:\n",
    "    conn = mysql.connector.connect(**db_config)\n",
    "    cursor = conn.cursor()\n",
    "\n",
    "    # Define the SQL Query to Fetch Data\n",
    "    table_name = 'products'  # Change to your table name\n",
    "    query = f\"SELECT * FROM {table_name}\"\n",
    "\n",
    "    # Read the Table into a Pandas DataFrame\n",
    "    df = pd.read_sql(query, conn)\n",
    "\n",
    "    # Convert to CSV File\n",
    "    csv_file_path = f\"{table_name}.csv\"\n",
    "    df.to_csv(csv_file_path, index=False)\n",
    "\n",
    "    print(f\"✅ Data exported successfully to {csv_file_path}\")\n",
    "\n",
    "except mysql.connector.Error as e:\n",
    "    print(f\"❌ Error: {e}\")\n",
    "\n",
    "finally:\n",
    "    # Close the Cursor and Connection\n",
    "    if cursor:\n",
    "        cursor.close()\n",
    "    if conn:\n",
    "        conn.close()"
   ]
  },
  {
   "cell_type": "markdown",
   "metadata": {},
   "source": []
  },
  {
   "cell_type": "markdown",
   "metadata": {},
   "source": [
    "#"
   ]
  },
  {
   "cell_type": "markdown",
   "metadata": {},
   "source": [
    "## Categories & Sub Categories\n",
    "\n",
    "1. **Cleaning Appliances**:\n",
    "   - Carpet Cleaners\n",
    "   - Robotic Vacuum Cleaners\n",
    "   - Steam Mops\n",
    "   - Vacuum Cleaners\n",
    "\n",
    "2. **Entertainment Appliances**:\n",
    "   - Blu-ray Players\n",
    "   - Gaming Consoles\n",
    "   - Home Theaters\n",
    "   - Projectors\n",
    "   - Televisions\n",
    "\n",
    "3. **Health Appliances**:\n",
    "   - BP Monitors\n",
    "   - Electric Massagers\n",
    "   - Glucose Meters\n",
    "   - Weighing Scales\n",
    "\n",
    "4. **Home Comfort Appliances**:\n",
    "   - Air Conditioners\n",
    "   - Air Purifiers\n",
    "   - Fans\n",
    "   - Heaters\n",
    "\n",
    "5. **Home Security Appliances**:\n",
    "   - CCTV Cameras\n",
    "   - Smart Door Locks\n",
    "\n",
    "6. **Kitchen Appliances**:\n",
    "   - Air Fryers\n",
    "   - Dishwashers\n",
    "   - Food Processors\n",
    "   - Induction Cookers\n",
    "   - Refrigerators\n",
    "\n",
    "I created this 'Home Appliances (products.csv)' dataset manually. "
   ]
  }
 ],
 "metadata": {
  "kernelspec": {
   "display_name": "Python 3",
   "language": "python",
   "name": "python3"
  },
  "language_info": {
   "codemirror_mode": {
    "name": "ipython",
    "version": 3
   },
   "file_extension": ".py",
   "mimetype": "text/x-python",
   "name": "python",
   "nbconvert_exporter": "python",
   "pygments_lexer": "ipython3",
   "version": "3.10.16"
  }
 },
 "nbformat": 4,
 "nbformat_minor": 2
}
